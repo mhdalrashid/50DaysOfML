{
 "cells": [
  {
   "cell_type": "markdown",
   "id": "c9e8c420",
   "metadata": {},
   "source": [
    "# 📘 Day 1: Student Score Prediction\n",
    "\n",
    "Predict student scores based on the number of hours studied using Linear Regression.\n",
    "\n",
    "---\n",
    "**Goal**: Understand basic supervised ML workflow with a simple regression problem.  \n",
    "**Algorithm used**: `LinearRegression` from `sklearn`.  \n",
    "**Dataset**: [Student Scores CSV](https://raw.githubusercontent.com/AdiPersonalWorks/Random/master/student_scores%20-%20student_scores.csv)"
   ]
  },
  {
   "cell_type": "markdown",
   "id": "022187bb",
   "metadata": {},
   "source": [
    "## 🔹 Step 1: Import Libraries\n",
    "\n",
    "We import all necessary libraries:\n",
    "- `pandas` for data handling\n",
    "- `matplotlib` and `seaborn` for visualization\n",
    "- `scikit-learn` for building and evaluating the regression model\n",
    "- `joblib` for saving and loading the model"
   ]
  },
  {
   "cell_type": "code",
   "execution_count": null,
   "id": "90c7524f",
   "metadata": {},
   "outputs": [],
   "source": [
    "import pandas as pd\n",
    "import matplotlib.pyplot as plt\n",
    "import seaborn as sns\n",
    "from sklearn.linear_model import LinearRegression\n",
    "from sklearn.model_selection import train_test_split\n",
    "from sklearn.metrics import mean_absolute_error, mean_squared_error, r2_score\n",
    "import joblib"
   ]
  },
  {
   "cell_type": "markdown",
   "id": "59de0a22",
   "metadata": {},
   "source": [
    "## 🔹 Step 2: Load the Dataset\n",
    "\n",
    "The dataset is loaded from a public GitHub repository.  \n",
    "It contains student study hours and corresponding exam scores."
   ]
  },
  {
   "cell_type": "code",
   "execution_count": null,
   "id": "84d11e57",
   "metadata": {},
   "outputs": [],
   "source": [
    "url = \"https://raw.githubusercontent.com/AdiPersonalWorks/Random/master/student_scores%20-%20student_scores.csv\"\n",
    "df = pd.read_csv(url)\n",
    "df.head()"
   ]
  },
  {
   "cell_type": "markdown",
   "id": "a4a5ebba",
   "metadata": {},
   "source": [
    "## 🔹 Step 3: Visualize the Data\n",
    "\n",
    "A scatter plot is used to observe the relationship between study hours and scores.  \n",
    "We expect a positive linear trend."
   ]
  },
  {
   "cell_type": "code",
   "execution_count": null,
   "id": "64fdfe6a",
   "metadata": {},
   "outputs": [],
   "source": [
    "sns.scatterplot(data=df, x=\"Hours\", y=\"Scores\")\n",
    "plt.title(\"Study Hours vs Scores\")\n",
    "plt.xlabel(\"Hours Studied\")\n",
    "plt.ylabel(\"Score\")\n",
    "plt.grid(True)\n",
    "plt.show()"
   ]
  },
  {
   "cell_type": "markdown",
   "id": "824733cc",
   "metadata": {},
   "source": [
    "## 🔹 Step 4: Prepare the Features and Target\n",
    "\n",
    "We define:\n",
    "- `X`: input feature (Hours studied)\n",
    "- `y`: output/target (Scores)\n",
    "Note: `X` must be 2D for sklearn."
   ]
  },
  {
   "cell_type": "code",
   "execution_count": null,
   "id": "397b096b",
   "metadata": {},
   "outputs": [],
   "source": [
    "X = df[[\"Hours\"]]\n",
    "y = df[\"Scores\"]"
   ]
  },
  {
   "cell_type": "markdown",
   "id": "369f9dfd",
   "metadata": {},
   "source": [
    "## 🔹 Step 5: Split the Dataset\n",
    "\n",
    "We split the dataset into training and testing sets using an 80/20 ratio.  \n",
    "`random_state=42` ensures reproducibility."
   ]
  },
  {
   "cell_type": "code",
   "execution_count": null,
   "id": "f9446e84",
   "metadata": {},
   "outputs": [],
   "source": [
    "X_train, X_test, y_train, y_test = train_test_split(X, y, test_size=0.2, random_state=42)"
   ]
  },
  {
   "cell_type": "markdown",
   "id": "c78a43c5",
   "metadata": {},
   "source": [
    "## 🔹 Step 6.1: Peek Again at the DataFrame\n",
    "\n",
    "Rechecking the dataset after splitting (optional step)."
   ]
  },
  {
   "cell_type": "code",
   "execution_count": null,
   "id": "cc2d2a43",
   "metadata": {},
   "outputs": [],
   "source": [
    "df.head()"
   ]
  },
  {
   "cell_type": "markdown",
   "id": "89675d53",
   "metadata": {},
   "source": [
    "## 🔹 Step 6.2: Train the Linear Regression Model\n",
    "\n",
    "We fit the `LinearRegression` model using training data.  \n",
    "The model will learn the best-fit line to minimize prediction error."
   ]
  },
  {
   "cell_type": "code",
   "execution_count": null,
   "id": "60ac4644",
   "metadata": {},
   "outputs": [],
   "source": [
    "model = LinearRegression()\n",
    "model.fit(X_train, y_train)"
   ]
  },
  {
   "cell_type": "markdown",
   "id": "969ee1ce",
   "metadata": {},
   "source": [
    "## 🔹 Step 6.3: View the Regression Equation\n",
    "\n",
    "Once trained, we can display the learned linear equation:  \n",
    "**Score = m * Hours + c**, where:\n",
    "- `m`: slope (coefficient)\n",
    "- `c`: intercept"
   ]
  },
  {
   "cell_type": "code",
   "execution_count": null,
   "id": "dbe4a408",
   "metadata": {},
   "outputs": [],
   "source": [
    "print(f\"Model Equation: Score = {model.coef_[0]:.2f} * Hours + {model.intercept_:.2f}\")"
   ]
  },
  {
   "cell_type": "markdown",
   "id": "80bf5031",
   "metadata": {},
   "source": [
    "## 🔹 Step 6.4: Predict on Test Set\n",
    "\n",
    "We use the trained model to predict scores on the test set."
   ]
  },
  {
   "cell_type": "code",
   "execution_count": null,
   "id": "e280ab94",
   "metadata": {},
   "outputs": [],
   "source": [
    "y_pred = model.predict(X_test)\n",
    "y_pred"
   ]
  },
  {
   "cell_type": "markdown",
   "id": "c32ae404",
   "metadata": {},
   "source": [
    "## 🔹 Step 6.5: Evaluate the Model\n",
    "\n",
    "We evaluate the performance using:\n",
    "- **MAE** (Mean Absolute Error)\n",
    "- **MSE** (Mean Squared Error)\n",
    "- **R² Score**: how well the line fits the data (1 = perfect)"
   ]
  },
  {
   "cell_type": "code",
   "execution_count": null,
   "id": "06651b54",
   "metadata": {},
   "outputs": [],
   "source": [
    "mae = mean_absolute_error(y_test, y_pred)\n",
    "mse = mean_squared_error(y_test, y_pred)\n",
    "r2 = r2_score(y_test, y_pred)\n",
    "\n",
    "print(f\"MAE: {mae:.2f}\")\n",
    "print(f\"MSE: {mse:.2f}\")\n",
    "print(f\"R² Score: {r2:.2f}\")"
   ]
  },
  {
   "cell_type": "markdown",
   "id": "4eba8a28",
   "metadata": {},
   "source": [
    "## 🔹 Step 6.6: Actual vs Predicted (Bar Chart)\n",
    "\n",
    "This chart helps us visualize the difference between predicted and actual scores."
   ]
  },
  {
   "cell_type": "code",
   "execution_count": null,
   "id": "62dc7573",
   "metadata": {},
   "outputs": [],
   "source": [
    "results = pd.DataFrame({\"Actual\": y_test, \"Predicted\": y_pred})\n",
    "results.plot(kind=\"bar\", figsize=(10,6))\n",
    "plt.title(\"Actual vs Predicted Scores\")\n",
    "plt.xlabel(\"Test Samples\")\n",
    "plt.ylabel(\"Score\")\n",
    "plt.grid(True)\n",
    "plt.tight_layout()\n",
    "plt.show()"
   ]
  },
  {
   "cell_type": "markdown",
   "id": "738991b4",
   "metadata": {},
   "source": [
    "## 🔹 Step 7: Plot the Regression Line on All Data\n",
    "\n",
    "Visualize how the regression line fits all the data points.  \n",
    "Blue = data points, Red = predicted regression line."
   ]
  },
  {
   "cell_type": "code",
   "execution_count": null,
   "id": "cedfdfa0",
   "metadata": {},
   "outputs": [],
   "source": [
    "plt.scatter(X, y, color=\"blue\")\n",
    "plt.plot(X, model.predict(X), color=\"red\")\n",
    "plt.title(\"Regression Line - Hours vs Scores\")\n",
    "plt.xlabel(\"Hours Studied\")\n",
    "plt.ylabel(\"Score\")\n",
    "plt.grid(True)\n",
    "plt.show()"
   ]
  },
  {
   "cell_type": "markdown",
   "id": "7458eb47",
   "metadata": {},
   "source": [
    "## 🔹 Step 8: Predict Score for Custom Input\n",
    "\n",
    "We take input (study hours) from the user and predict the score using the trained model."
   ]
  },
  {
   "cell_type": "code",
   "execution_count": null,
   "id": "08f27190",
   "metadata": {},
   "outputs": [],
   "source": [
    "hours = float(input(\"Enter number of study hours: \"))\n",
    "predicted_score = model.predict([[hours]])\n",
    "print(f\"Predicted Score: {predicted_score[0]:.2f}\")"
   ]
  },
  {
   "cell_type": "markdown",
   "id": "d98fa6b6",
   "metadata": {},
   "source": [
    "## 🔹 Step 9: Save the Trained Model\n",
    "\n",
    "We use `joblib` to save the trained model so it can be reused without retraining."
   ]
  },
  {
   "cell_type": "code",
   "execution_count": null,
   "id": "27f7f360",
   "metadata": {},
   "outputs": [],
   "source": [
    "joblib.dump(model, \"study_score_model.pkl\")"
   ]
  },
  {
   "cell_type": "markdown",
   "id": "e7658de5",
   "metadata": {},
   "source": [
    "## 🔹 Step 10: Load & Reuse the Model\n",
    "\n",
    "Load the saved model from disk and make a prediction on a new input (e.g., 7.5 hours)."
   ]
  },
  {
   "cell_type": "code",
   "execution_count": null,
   "id": "4d4e372a",
   "metadata": {},
   "outputs": [],
   "source": [
    "loaded_model = joblib.load(\"study_score_model.pkl\")\n",
    "loaded_model.predict([[7.5]])"
   ]
  },
  {
   "cell_type": "markdown",
   "id": "39e17f3f",
   "metadata": {},
   "source": [
    "## ✅ Summary & Key Learnings\n",
    "\n",
    "- Built and evaluated a Linear Regression model\n",
    "- Learned how to:\n",
    "  - Load and explore a dataset\n",
    "  - Visualize relationships\n",
    "  - Train, predict, and evaluate a model\n",
    "  - Save and reuse the trained model\n",
    "- Next → Try a classification task using the Iris dataset 🌸"
   ]
  }
 ],
 "metadata": {},
 "nbformat": 4,
 "nbformat_minor": 5
}