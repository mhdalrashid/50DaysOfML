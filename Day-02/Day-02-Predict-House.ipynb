{
 "cells": [
  {
   "cell_type": "markdown",
   "id": "ab2ce76f",
   "metadata": {},
   "source": [
    "# 🏡 Day 2: Predict House Prices Using Multivariate Linear Regression\n",
    "\n",
    "Welcome to Day 2 of the 50 Days of ML Challenge! Today, we’ll build a multivariate linear regression model to predict house prices using real-world data from the California Housing dataset."
   ]
  },
  {
   "cell_type": "markdown",
   "id": "dfe99aa0",
   "metadata": {},
   "source": [
    "## 📦 Step 1: Import Required Libraries"
   ]
  },
  {
   "cell_type": "code",
   "execution_count": null,
   "id": "21116269",
   "metadata": {},
   "outputs": [],
   "source": [
    "\n",
    "import pandas as pd\n",
    "import numpy as np\n",
    "import matplotlib.pyplot as plt\n",
    "import seaborn as sns\n",
    "\n",
    "from sklearn.model_selection import train_test_split\n",
    "from sklearn.linear_model import LinearRegression\n",
    "from sklearn.preprocessing import StandardScaler\n",
    "from sklearn.metrics import mean_absolute_error, mean_squared_error, r2_score\n",
    "\n",
    "import joblib\n",
    "import warnings\n",
    "warnings.filterwarnings('ignore')\n"
   ]
  },
  {
   "cell_type": "markdown",
   "id": "41dcf5e1",
   "metadata": {},
   "source": [
    "## 📥 Step 2: Load the Dataset\n",
    "We’ll use the **California Housing** dataset available via `sklearn.datasets`. It contains housing data for districts in California."
   ]
  },
  {
   "cell_type": "code",
   "execution_count": null,
   "id": "814da21f",
   "metadata": {},
   "outputs": [],
   "source": [
    "\n",
    "from sklearn.datasets import fetch_california_housing\n",
    "\n",
    "housing = fetch_california_housing(as_frame=True)\n",
    "df = housing.frame\n",
    "df.head()\n"
   ]
  },
  {
   "cell_type": "markdown",
   "id": "1c3cf0aa",
   "metadata": {},
   "source": [
    "## 🔍 Step 3: Explore the Dataset\n",
    "Let’s understand the structure and basic statistics of the dataset."
   ]
  },
  {
   "cell_type": "code",
   "execution_count": null,
   "id": "4ab3e765",
   "metadata": {},
   "outputs": [],
   "source": [
    "df.shape"
   ]
  },
  {
   "cell_type": "code",
   "execution_count": null,
   "id": "837d1d6b",
   "metadata": {},
   "outputs": [],
   "source": [
    "df.info()"
   ]
  },
  {
   "cell_type": "code",
   "execution_count": null,
   "id": "6d629ea4",
   "metadata": {},
   "outputs": [],
   "source": [
    "df.describe()"
   ]
  },
  {
   "cell_type": "markdown",
   "id": "9cf7ccdc",
   "metadata": {},
   "source": [
    "## 📊 Step 4: Exploratory Data Analysis (EDA)\n",
    "We'll visualize feature distributions, correlations, and relationships."
   ]
  },
  {
   "cell_type": "code",
   "execution_count": null,
   "id": "29dbdcf0",
   "metadata": {},
   "outputs": [],
   "source": [
    "\n",
    "# Histograms of all features\n",
    "df.hist(bins=30, figsize=(15, 10))\n",
    "plt.tight_layout()\n",
    "plt.show()\n"
   ]
  },
  {
   "cell_type": "code",
   "execution_count": null,
   "id": "9820f482",
   "metadata": {},
   "outputs": [],
   "source": [
    "\n",
    "# Correlation heatmap\n",
    "plt.figure(figsize=(10, 8))\n",
    "sns.heatmap(df.corr(), annot=True, cmap='coolwarm')\n",
    "plt.title(\"Correlation Heatmap\")\n",
    "plt.show()\n"
   ]
  },
  {
   "cell_type": "code",
   "execution_count": null,
   "id": "29a2923f",
   "metadata": {},
   "outputs": [],
   "source": [
    "\n",
    "# Pairplot of selected features\n",
    "sns.pairplot(df[['MedInc', 'AveRooms', 'HouseAge', 'MedHouseVal']])\n",
    "plt.show()\n"
   ]
  },
  {
   "cell_type": "markdown",
   "id": "f4611be1",
   "metadata": {},
   "source": [
    "## 🧼 Step 5: Data Preprocessing\n",
    "We’ll separate features and target, and scale the features using StandardScaler."
   ]
  },
  {
   "cell_type": "code",
   "execution_count": null,
   "id": "467b12e8",
   "metadata": {},
   "outputs": [],
   "source": [
    "\n",
    "X = df.drop(\"MedHouseVal\", axis=1)\n",
    "y = df[\"MedHouseVal\"]\n",
    "\n",
    "scaler = StandardScaler()\n",
    "X_scaled = scaler.fit_transform(X)\n",
    "\n",
    "X_train, X_test, y_train, y_test = train_test_split(X_scaled, y, test_size=0.2, random_state=42)\n"
   ]
  },
  {
   "cell_type": "markdown",
   "id": "8dd183f0",
   "metadata": {},
   "source": [
    "## 🧠 Step 6: Train the Model\n",
    "We’ll train a simple linear regression model on the scaled data."
   ]
  },
  {
   "cell_type": "code",
   "execution_count": null,
   "id": "2357fdcf",
   "metadata": {},
   "outputs": [],
   "source": [
    "\n",
    "model = LinearRegression()\n",
    "model.fit(X_train, y_train)\n"
   ]
  },
  {
   "cell_type": "markdown",
   "id": "07d4a1ad",
   "metadata": {},
   "source": [
    "## ✅ Step 7: Evaluate the Model\n",
    "We’ll evaluate our model using common regression metrics."
   ]
  },
  {
   "cell_type": "code",
   "execution_count": null,
   "id": "7f76bb60",
   "metadata": {},
   "outputs": [],
   "source": [
    "\n",
    "y_pred = model.predict(X_test)\n",
    "\n",
    "mae = mean_absolute_error(y_test, y_pred)\n",
    "mse = mean_squared_error(y_test, y_pred)\n",
    "rmse = np.sqrt(mse)\n",
    "r2 = r2_score(y_test, y_pred)\n",
    "\n",
    "print(f\"MAE: {mae:.2f}\")\n",
    "print(f\"RMSE: {rmse:.2f}\")\n",
    "print(f\"R² Score: {r2:.2f}\")\n"
   ]
  },
  {
   "cell_type": "markdown",
   "id": "38b123c8",
   "metadata": {},
   "source": [
    "## 📈 Step 8: Visualize Predictions"
   ]
  },
  {
   "cell_type": "code",
   "execution_count": null,
   "id": "a4e6fe18",
   "metadata": {},
   "outputs": [],
   "source": [
    "\n",
    "plt.figure(figsize=(8,6))\n",
    "plt.scatter(y_test, y_pred, alpha=0.5)\n",
    "plt.xlabel(\"Actual Prices\")\n",
    "plt.ylabel(\"Predicted Prices\")\n",
    "plt.title(\"Actual vs Predicted House Prices\")\n",
    "plt.plot([y_test.min(), y_test.max()], [y_test.min(), y_test.max()], 'r--')\n",
    "plt.show()\n"
   ]
  },
  {
   "cell_type": "markdown",
   "id": "086ee3f8",
   "metadata": {},
   "source": [
    "## 💾 Step 9: Save the Trained Model"
   ]
  },
  {
   "cell_type": "code",
   "execution_count": null,
   "id": "d1b17a95",
   "metadata": {},
   "outputs": [],
   "source": [
    "joblib.dump(model, \"linear_regression_house_model.pkl\")"
   ]
  },
  {
   "cell_type": "markdown",
   "id": "0b9fef1c",
   "metadata": {},
   "source": [
    "## 🔮 Step 10: Make Predictions on New Data"
   ]
  },
  {
   "cell_type": "code",
   "execution_count": null,
   "id": "74b8750e",
   "metadata": {},
   "outputs": [],
   "source": [
    "\n",
    "sample_input = X_test[0].reshape(1, -1)\n",
    "predicted_price = model.predict(sample_input)\n",
    "print(f\"Predicted Price: {predicted_price[0]:.2f}\")\n"
   ]
  },
  {
   "cell_type": "markdown",
   "id": "d38f37ae",
   "metadata": {},
   "source": [
    "## 🧠 Final Thoughts\n",
    "Today we explored a real-world housing dataset and implemented a multivariate linear regression model. We applied proper EDA, preprocessing, training, evaluation, and even saved our model for deployment. Great job! 🚀"
   ]
  }
 ],
 "metadata": {},
 "nbformat": 4,
 "nbformat_minor": 5
}
